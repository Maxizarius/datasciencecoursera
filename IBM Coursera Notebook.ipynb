{
    "cells": [
        {
            "cell_type": "markdown",
            "metadata": {
                "collapsed": true
            },
            "source": "# My Jupter Notebook on IBM Watson Studio"
        },
        {
            "cell_type": "markdown",
            "metadata": {},
            "source": "**David Wedlake**  Process Safety Engineer"
        },
        {
            "cell_type": "markdown",
            "metadata": {},
            "source": "*I am intersted in Data Science because we have vast amounts of data that we can use to make the oil and gas industry safer.  There are several projects that I would like to complete and data will be the key to finding a solution.*"
        },
        {
            "cell_type": "markdown",
            "metadata": {},
            "source": "### The purpose of the code is to find the sum ofsquare root of 100 "
        },
        {
            "cell_type": "code",
            "execution_count": 4,
            "metadata": {},
            "outputs": [
                {
                    "data": {
                        "text/plain": "10.0"
                    },
                    "execution_count": 4,
                    "metadata": {},
                    "output_type": "execute_result"
                }
            ],
            "source": "import math\nmath.sqrt(100)"
        },
        {
            "cell_type": "markdown",
            "metadata": {},
            "source": "---\nOrdered List\n1. Tacos\n2. Burgers\n3. Pizza\n---\n[Google](https://www.google.com)\n"
        }
    ],
    "metadata": {
        "kernelspec": {
            "display_name": "Python 3.6",
            "language": "python",
            "name": "python3"
        },
        "language_info": {
            "codemirror_mode": {
                "name": "ipython",
                "version": 3
            },
            "file_extension": ".py",
            "mimetype": "text/x-python",
            "name": "python",
            "nbconvert_exporter": "python",
            "pygments_lexer": "ipython3",
            "version": "3.6.9"
        }
    },
    "nbformat": 4,
    "nbformat_minor": 1
}